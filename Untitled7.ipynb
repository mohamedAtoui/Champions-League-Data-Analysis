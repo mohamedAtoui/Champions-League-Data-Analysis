{
  "nbformat": 4,
  "nbformat_minor": 0,
  "metadata": {
    "colab": {
      "provenance": [],
      "gpuType": "T4",
      "authorship_tag": "ABX9TyMEXivZ7FwMZu/hxxpQ3DCc",
      "include_colab_link": true
    },
    "kernelspec": {
      "name": "python3",
      "display_name": "Python 3"
    },
    "language_info": {
      "name": "python"
    },
    "accelerator": "GPU"
  },
  "cells": [
    {
      "cell_type": "markdown",
      "metadata": {
        "id": "view-in-github",
        "colab_type": "text"
      },
      "source": [
        "<a href=\"https://colab.research.google.com/github/mohamedAtoui/Champions-League-Data-Analysis/blob/main/Untitled7.ipynb\" target=\"_parent\"><img src=\"https://colab.research.google.com/assets/colab-badge.svg\" alt=\"Open In Colab\"/></a>"
      ]
    },
    {
      "cell_type": "code",
      "execution_count": 16,
      "metadata": {
        "id": "BGgSblrB2Kjo"
      },
      "outputs": [],
      "source": [
        "import random as rd\n",
        "import numpy as np\n",
        "import tensorflow as tf\n",
        "from tensorflow.keras.models import Sequential\n",
        "from tensorflow.keras.layers import LSTM, Dense, Activation\n",
        "from tensorflow.keras.optimizers import RMSprop\n"
      ]
    },
    {
      "cell_type": "markdown",
      "source": [
        "# New Section"
      ],
      "metadata": {
        "id": "uZrT0dDW2SMB"
      }
    },
    {
      "cell_type": "code",
      "source": [
        "############prepareData#########\n",
        "text=open(\"Text.txt\",'rb').read().decode(encoding='utf-8').lower()"
      ],
      "metadata": {
        "id": "ES4cSt0b2gUy"
      },
      "execution_count": 17,
      "outputs": []
    },
    {
      "cell_type": "code",
      "source": [
        "characters=sorted(set(text))"
      ],
      "metadata": {
        "id": "AQqomNoU2i4S"
      },
      "execution_count": 18,
      "outputs": []
    },
    {
      "cell_type": "code",
      "source": [
        "char_to_index={c:i for i,c in enumerate(characters)}"
      ],
      "metadata": {
        "id": "pOj95Y-L2k8O"
      },
      "execution_count": 19,
      "outputs": []
    },
    {
      "cell_type": "code",
      "source": [
        "index_to_char={i:c for i,c in enumerate(characters)}"
      ],
      "metadata": {
        "id": "_E4PxVCe2mod"
      },
      "execution_count": 20,
      "outputs": []
    },
    {
      "cell_type": "code",
      "source": [
        "seq_len=40\n",
        "step_size=3\n",
        "\n",
        "sentences=[]\n",
        "next_characters=[]\n"
      ],
      "metadata": {
        "id": "tOhiL9Jg2oCp"
      },
      "execution_count": 21,
      "outputs": []
    },
    {
      "cell_type": "code",
      "source": [
        "for i in range(0,len(text)-seq_len,step_size):\n",
        "    sentences.append(text[i:i+seq_len])\n",
        "    next_characters.append(text[i+seq_len])\n"
      ],
      "metadata": {
        "id": "bkfl_ZFf2pM9"
      },
      "execution_count": 22,
      "outputs": []
    },
    {
      "cell_type": "code",
      "source": [
        "x = np.zeros((len(sentences), seq_len, len(characters)), dtype=bool)"
      ],
      "metadata": {
        "id": "_Q3U96vi2svN"
      },
      "execution_count": 23,
      "outputs": []
    },
    {
      "cell_type": "code",
      "source": [
        "y=np.zeros((len(sentences),len(characters)),dtype=bool)"
      ],
      "metadata": {
        "id": "5vij2s022tEU"
      },
      "execution_count": 24,
      "outputs": []
    },
    {
      "cell_type": "code",
      "source": [
        "for i, sentence in enumerate(sentences):\n",
        "    for t, character in enumerate(sentence):\n",
        "        if t < seq_len:\n",
        "            x[i, t, char_to_index[character]] = 1\n",
        "    y[i, char_to_index[next_characters[i]]] = 1\n"
      ],
      "metadata": {
        "id": "8Cl4wtr825IV"
      },
      "execution_count": 25,
      "outputs": []
    },
    {
      "cell_type": "code",
      "source": [
        "############NeuralNetwork#############\n",
        "model=Sequential()\n",
        "model.add(LSTM(128,input_shape=(seq_len,len(characters))))\n",
        "model.add(Dense(len(characters)))\n",
        "model.add(Activation('softmax'))\n",
        "\n",
        "model.compile(loss='categorical_crossentropy',optimizer=RMSprop(learning_rate=0.01))\n",
        "model.fit(x,y,batch_size=256, epochs=4)\n"
      ],
      "metadata": {
        "colab": {
          "base_uri": "https://localhost:8080/"
        },
        "id": "bLFZd5ca28Mw",
        "outputId": "a13a9e92-71f4-4ab8-e00e-bfe7571d5e69"
      },
      "execution_count": 26,
      "outputs": [
        {
          "output_type": "stream",
          "name": "stdout",
          "text": [
            "Epoch 1/4\n",
            "1505/1505 [==============================] - 10s 6ms/step - loss: 1.8702\n",
            "Epoch 2/4\n",
            "1505/1505 [==============================] - 9s 6ms/step - loss: 1.5347\n",
            "Epoch 3/4\n",
            "1505/1505 [==============================] - 9s 6ms/step - loss: 1.4544\n",
            "Epoch 4/4\n",
            "1505/1505 [==============================] - 9s 6ms/step - loss: 1.4121\n"
          ]
        },
        {
          "output_type": "execute_result",
          "data": {
            "text/plain": [
              "<keras.src.callbacks.History at 0x7db45089b5b0>"
            ]
          },
          "metadata": {},
          "execution_count": 26
        }
      ]
    },
    {
      "cell_type": "code",
      "source": [
        "def sample(preds, temperature=1.0):\n",
        "    preds = np.asarray(preds).astype('float64')\n",
        "    preds = np.log(preds) / temperature\n",
        "    exp_preds = np.exp(preds)\n",
        "    preds = exp_preds / np.sum(exp_preds)\n",
        "    probas = np.random.multinomial(1, preds, 1)\n",
        "    return np.argmax(probas)"
      ],
      "metadata": {
        "id": "X8XQ61fN2-RI"
      },
      "execution_count": 27,
      "outputs": []
    },
    {
      "cell_type": "code",
      "source": [
        "import random\n",
        "#####text generation function######\n",
        "def generate_text(length, temperature=1.0):\n",
        "  start_index=random.randint(0,len(text)-seq_len-1)\n",
        "  generated = ''\n",
        "  sentence = text[start_index: start_index + seq_len]\n",
        "  generated += sentence\n",
        "  for i in range(length):\n",
        "    x_pred = np.zeros((1, seq_len, len(characters)))\n",
        "    for t, character in enumerate(sentence):\n",
        "        x_pred[0, t, char_to_index[character]] = 1\n",
        "\n",
        "    preds = model.predict(x_pred, verbose=0)[0]\n",
        "    next_index = sample(preds, temperature)\n",
        "    next_char = index_to_char[next_index]\n",
        "\n",
        "    generated += next_char\n",
        "    sentence = sentence[1:] + next_char\n",
        "\n",
        "  return generated\n",
        "\n",
        "\n"
      ],
      "metadata": {
        "id": "CzuAAMQN4R3e"
      },
      "execution_count": 28,
      "outputs": []
    },
    {
      "cell_type": "code",
      "source": [
        "print('---------0.2-------------')\n",
        "print(generate_text(300,temperature=0.2))\n",
        "print('---------0.7-------------')\n",
        "print(generate_text(300,temperature=0.7))\n",
        "print(generate_text(300,temperature=1.0))\n",
        "print(generate_text(300,temperature=1.2))\n",
        "print(generate_text(300,temperature=1.5))\n",
        "print(generate_text(300,temperature=2.0))"
      ],
      "metadata": {
        "id": "MEGa0q2Z4wlo",
        "outputId": "c5075f5b-676e-4b5e-abd1-e85fc1cbf1c8",
        "colab": {
          "base_uri": "https://localhost:8080/"
        }
      },
      "execution_count": 29,
      "outputs": [
        {
          "output_type": "stream",
          "name": "stdout",
          "text": [
            "---------0.2-------------\n",
            "l well hath clifford play'd the orator,\n",
            "and the seat a fair the course of the best\n",
            "and thing to the hand to the cause of this thing to things and the death,\n",
            "the send to the world be this be so musician,\n",
            "and the seat and the death, and the courtess to the wisless here.\n",
            "\n",
            "clifford:\n",
            "we can the seal to the cause to the hand of his death\n",
            "---------0.7-------------\n",
            " him to the rock tarpeian, and from thence,\n",
            "sent upon the world come; that will have her\n",
            "son his fair their of my side do more sothing-\n",
            "\n",
            "art warwick:\n",
            "i hold meforier the friends ever i clife\n",
            "to be a neither son, i will not throne sorrow\n",
            "king of sunce to have more of night to be her with\n",
            "hourship and remost in the earled time, but \n",
            " at the park-corner.\n",
            "\n",
            "king edward iv:\n",
            "i do metfire the lucessay is her peng\n",
            "to kate i am behorty, their wow,\n",
            "strange an old poareor but a bost, and thou has!\n",
            "to shall crown\n",
            "we conting as thy hand of the the canpungrear'd\n",
            "whick her come of meting with my wifery ammile dows;\n",
            "to nay tomers ape your suppision.\n",
            "\n",
            "senand:\n",
            "the more a\n",
            "r\n",
            "and there receive her approbation:\n",
            "and mine basiat fore. marciol, save done:\n",
            "prettered o'er, a gixt the luws, sbag! think your\n",
            "this each, too is, rome kning he air solve?\n",
            "your setly their triams: and :natul son daughter.\n",
            "\n",
            "crahentune:\n",
            "how but bloody indure tame-tearies,\n",
            "and yet with soursing of hemias tongue torm. tonk thines yo\n",
            "er of you both love katharina,\n",
            "because to kill ma-rritin;,\n",
            "you ewsing; what's certy, my mile,\n",
            "enalides?\n",
            "\n",
            "ciowixay:\n",
            "it knam at bonemvblinelagy; with this worst.\n",
            "my tressuests d\n",
            "ronne; we shale smandarity\n",
            "suver conceiasedivedon wifty arking, anse-before\n",
            "why,quncargo; still. no murded hund accuse.\n",
            "lat not a toah, thrain's deeped t\n",
            "\n",
            "\n",
            "ferdinand:\n",
            "most sure, the goddess\n",
            "fgest up! fof caltarcks, and.sefoxq, of vii!\n",
            "aim 'pelset'sh rrumscl\n",
            "e3gendla.kthy joyfur a rigtrecsome,e'ers; be:\n",
            "by a queen, volseatel's, docaine's,-a\n",
            "mucks. dwadialfulth father'd: 'etcy?\n",
            "lowesh ur'z a.swu-lewnrur'ritoblinvabl\n",
            "thatmzpitedly: a?ge boecdes enindacly joqe, asdle:\n",
            "f\n"
          ]
        }
      ]
    }
  ]
}